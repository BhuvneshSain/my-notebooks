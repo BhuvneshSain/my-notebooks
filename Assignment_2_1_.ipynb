{
  "nbformat": 4,
  "nbformat_minor": 0,
  "metadata": {
    "colab": {
      "name": "Assignment 2.1 .ipynb",
      "provenance": [],
      "collapsed_sections": [
        "Q8xXEW3FgE6X",
        "vz2xeeWmgOvy"
      ],
      "authorship_tag": "ABX9TyOhE+dVIJPVTKJQl/9+txsN",
      "include_colab_link": true
    },
    "kernelspec": {
      "name": "python3",
      "display_name": "Python 3"
    }
  },
  "cells": [
    {
      "cell_type": "markdown",
      "metadata": {
        "id": "view-in-github",
        "colab_type": "text"
      },
      "source": [
        "<a href=\"https://colab.research.google.com/github/BhuvneshSain/my-notebooks/blob/master/Assignment_2_1_.ipynb\" target=\"_parent\"><img src=\"https://colab.research.google.com/assets/colab-badge.svg\" alt=\"Open In Colab\"/></a>"
      ]
    },
    {
      "cell_type": "code",
      "metadata": {
        "id": "_mw8Q5z2KEFs",
        "colab_type": "code",
        "colab": {}
      },
      "source": [
        "import pandas as pd\n",
        "import numpy as np\n",
        "import csv"
      ],
      "execution_count": null,
      "outputs": []
    },
    {
      "cell_type": "markdown",
      "metadata": {
        "id": "2eNzR0mNImse",
        "colab_type": "text"
      },
      "source": [
        "# **Problem 1**"
      ]
    },
    {
      "cell_type": "code",
      "metadata": {
        "id": "T549d931IrQE",
        "colab_type": "code",
        "colab": {
          "base_uri": "https://localhost:8080/",
          "height": 402
        },
        "outputId": "e34cdc4f-0758-46a8-f5d2-edbb26114949"
      },
      "source": [
        "df=pd.read_csv('Titanic.csv')\n",
        "df\n"
      ],
      "execution_count": null,
      "outputs": [
        {
          "output_type": "execute_result",
          "data": {
            "text/html": [
              "<div>\n",
              "<style scoped>\n",
              "    .dataframe tbody tr th:only-of-type {\n",
              "        vertical-align: middle;\n",
              "    }\n",
              "\n",
              "    .dataframe tbody tr th {\n",
              "        vertical-align: top;\n",
              "    }\n",
              "\n",
              "    .dataframe thead th {\n",
              "        text-align: right;\n",
              "    }\n",
              "</style>\n",
              "<table border=\"1\" class=\"dataframe\">\n",
              "  <thead>\n",
              "    <tr style=\"text-align: right;\">\n",
              "      <th></th>\n",
              "      <th>PassengerId</th>\n",
              "      <th>Survived</th>\n",
              "      <th>Pclass</th>\n",
              "      <th>Name</th>\n",
              "      <th>Sex</th>\n",
              "      <th>Age</th>\n",
              "      <th>SibSp</th>\n",
              "      <th>Parch</th>\n",
              "      <th>Ticket</th>\n",
              "      <th>Fare</th>\n",
              "      <th>Cabin</th>\n",
              "      <th>Embarked</th>\n",
              "    </tr>\n",
              "  </thead>\n",
              "  <tbody>\n",
              "    <tr>\n",
              "      <th>0</th>\n",
              "      <td>463</td>\n",
              "      <td>0</td>\n",
              "      <td>1</td>\n",
              "      <td>Gee, Mr. Arthur H</td>\n",
              "      <td>male</td>\n",
              "      <td>47.0</td>\n",
              "      <td>0</td>\n",
              "      <td>0</td>\n",
              "      <td>111320</td>\n",
              "      <td>38.5000</td>\n",
              "      <td>E63</td>\n",
              "      <td>S</td>\n",
              "    </tr>\n",
              "    <tr>\n",
              "      <th>1</th>\n",
              "      <td>121</td>\n",
              "      <td>0</td>\n",
              "      <td>2</td>\n",
              "      <td>Hickman, Mr. Stanley George</td>\n",
              "      <td>male</td>\n",
              "      <td>21.0</td>\n",
              "      <td>2</td>\n",
              "      <td>0</td>\n",
              "      <td>S.O.C. 14879</td>\n",
              "      <td>73.5000</td>\n",
              "      <td>NaN</td>\n",
              "      <td>S</td>\n",
              "    </tr>\n",
              "    <tr>\n",
              "      <th>2</th>\n",
              "      <td>415</td>\n",
              "      <td>1</td>\n",
              "      <td>3</td>\n",
              "      <td>Sundman, Mr. Johan Julian</td>\n",
              "      <td>male</td>\n",
              "      <td>44.0</td>\n",
              "      <td>0</td>\n",
              "      <td>0</td>\n",
              "      <td>STON/O 2. 3101269</td>\n",
              "      <td>7.9250</td>\n",
              "      <td>NaN</td>\n",
              "      <td>S</td>\n",
              "    </tr>\n",
              "    <tr>\n",
              "      <th>3</th>\n",
              "      <td>480</td>\n",
              "      <td>1</td>\n",
              "      <td>3</td>\n",
              "      <td>Hirvonen, Miss. Hildur E</td>\n",
              "      <td>female</td>\n",
              "      <td>2.0</td>\n",
              "      <td>0</td>\n",
              "      <td>1</td>\n",
              "      <td>3101298</td>\n",
              "      <td>12.2875</td>\n",
              "      <td>NaN</td>\n",
              "      <td>S</td>\n",
              "    </tr>\n",
              "    <tr>\n",
              "      <th>4</th>\n",
              "      <td>622</td>\n",
              "      <td>1</td>\n",
              "      <td>1</td>\n",
              "      <td>Kimball, Mr. Edwin Nelson Jr</td>\n",
              "      <td>male</td>\n",
              "      <td>42.0</td>\n",
              "      <td>1</td>\n",
              "      <td>0</td>\n",
              "      <td>11753</td>\n",
              "      <td>52.5542</td>\n",
              "      <td>D19</td>\n",
              "      <td>S</td>\n",
              "    </tr>\n",
              "    <tr>\n",
              "      <th>...</th>\n",
              "      <td>...</td>\n",
              "      <td>...</td>\n",
              "      <td>...</td>\n",
              "      <td>...</td>\n",
              "      <td>...</td>\n",
              "      <td>...</td>\n",
              "      <td>...</td>\n",
              "      <td>...</td>\n",
              "      <td>...</td>\n",
              "      <td>...</td>\n",
              "      <td>...</td>\n",
              "      <td>...</td>\n",
              "    </tr>\n",
              "    <tr>\n",
              "      <th>776</th>\n",
              "      <td>505</td>\n",
              "      <td>1</td>\n",
              "      <td>1</td>\n",
              "      <td>Maioni, Miss. Roberta</td>\n",
              "      <td>female</td>\n",
              "      <td>16.0</td>\n",
              "      <td>0</td>\n",
              "      <td>0</td>\n",
              "      <td>110152</td>\n",
              "      <td>86.5000</td>\n",
              "      <td>B79</td>\n",
              "      <td>S</td>\n",
              "    </tr>\n",
              "    <tr>\n",
              "      <th>777</th>\n",
              "      <td>776</td>\n",
              "      <td>0</td>\n",
              "      <td>3</td>\n",
              "      <td>Myhrman, Mr. Pehr Fabian Oliver Malkolm</td>\n",
              "      <td>male</td>\n",
              "      <td>18.0</td>\n",
              "      <td>0</td>\n",
              "      <td>0</td>\n",
              "      <td>347078</td>\n",
              "      <td>7.7500</td>\n",
              "      <td>NaN</td>\n",
              "      <td>S</td>\n",
              "    </tr>\n",
              "    <tr>\n",
              "      <th>778</th>\n",
              "      <td>111</td>\n",
              "      <td>0</td>\n",
              "      <td>1</td>\n",
              "      <td>Porter, Mr. Walter Chamberlain</td>\n",
              "      <td>male</td>\n",
              "      <td>47.0</td>\n",
              "      <td>0</td>\n",
              "      <td>0</td>\n",
              "      <td>110465</td>\n",
              "      <td>52.0000</td>\n",
              "      <td>C110</td>\n",
              "      <td>S</td>\n",
              "    </tr>\n",
              "    <tr>\n",
              "      <th>779</th>\n",
              "      <td>198</td>\n",
              "      <td>0</td>\n",
              "      <td>3</td>\n",
              "      <td>Olsen, Mr. Karl Siegwart Andreas</td>\n",
              "      <td>male</td>\n",
              "      <td>42.0</td>\n",
              "      <td>0</td>\n",
              "      <td>1</td>\n",
              "      <td>4579</td>\n",
              "      <td>8.4042</td>\n",
              "      <td>NaN</td>\n",
              "      <td>S</td>\n",
              "    </tr>\n",
              "    <tr>\n",
              "      <th>780</th>\n",
              "      <td>361</td>\n",
              "      <td>0</td>\n",
              "      <td>3</td>\n",
              "      <td>Skoog, Mr. Wilhelm</td>\n",
              "      <td>male</td>\n",
              "      <td>40.0</td>\n",
              "      <td>1</td>\n",
              "      <td>4</td>\n",
              "      <td>347088</td>\n",
              "      <td>27.9000</td>\n",
              "      <td>NaN</td>\n",
              "      <td>S</td>\n",
              "    </tr>\n",
              "  </tbody>\n",
              "</table>\n",
              "<p>781 rows × 12 columns</p>\n",
              "</div>"
            ],
            "text/plain": [
              "     PassengerId  Survived  Pclass  ...     Fare Cabin  Embarked\n",
              "0            463         0       1  ...  38.5000   E63         S\n",
              "1            121         0       2  ...  73.5000   NaN         S\n",
              "2            415         1       3  ...   7.9250   NaN         S\n",
              "3            480         1       3  ...  12.2875   NaN         S\n",
              "4            622         1       1  ...  52.5542   D19         S\n",
              "..           ...       ...     ...  ...      ...   ...       ...\n",
              "776          505         1       1  ...  86.5000   B79         S\n",
              "777          776         0       3  ...   7.7500   NaN         S\n",
              "778          111         0       1  ...  52.0000  C110         S\n",
              "779          198         0       3  ...   8.4042   NaN         S\n",
              "780          361         0       3  ...  27.9000   NaN         S\n",
              "\n",
              "[781 rows x 12 columns]"
            ]
          },
          "metadata": {
            "tags": []
          },
          "execution_count": 13
        }
      ]
    },
    {
      "cell_type": "code",
      "metadata": {
        "id": "dUJMxf3gI5-r",
        "colab_type": "code",
        "colab": {
          "base_uri": "https://localhost:8080/",
          "height": 297
        },
        "outputId": "2f3b8f26-ff2a-474f-c7af-8fa5f38d8af5"
      },
      "source": [
        "df.describe()"
      ],
      "execution_count": null,
      "outputs": [
        {
          "output_type": "execute_result",
          "data": {
            "text/html": [
              "<div>\n",
              "<style scoped>\n",
              "    .dataframe tbody tr th:only-of-type {\n",
              "        vertical-align: middle;\n",
              "    }\n",
              "\n",
              "    .dataframe tbody tr th {\n",
              "        vertical-align: top;\n",
              "    }\n",
              "\n",
              "    .dataframe thead th {\n",
              "        text-align: right;\n",
              "    }\n",
              "</style>\n",
              "<table border=\"1\" class=\"dataframe\">\n",
              "  <thead>\n",
              "    <tr style=\"text-align: right;\">\n",
              "      <th></th>\n",
              "      <th>PassengerId</th>\n",
              "      <th>Survived</th>\n",
              "      <th>Pclass</th>\n",
              "      <th>Age</th>\n",
              "      <th>SibSp</th>\n",
              "      <th>Parch</th>\n",
              "      <th>Fare</th>\n",
              "    </tr>\n",
              "  </thead>\n",
              "  <tbody>\n",
              "    <tr>\n",
              "      <th>count</th>\n",
              "      <td>781.000000</td>\n",
              "      <td>781.000000</td>\n",
              "      <td>781.000000</td>\n",
              "      <td>628.000000</td>\n",
              "      <td>781.000000</td>\n",
              "      <td>781.000000</td>\n",
              "      <td>781.000000</td>\n",
              "    </tr>\n",
              "    <tr>\n",
              "      <th>mean</th>\n",
              "      <td>445.335467</td>\n",
              "      <td>0.371319</td>\n",
              "      <td>2.309859</td>\n",
              "      <td>29.603376</td>\n",
              "      <td>0.503201</td>\n",
              "      <td>0.362356</td>\n",
              "      <td>30.312072</td>\n",
              "    </tr>\n",
              "    <tr>\n",
              "      <th>std</th>\n",
              "      <td>257.978890</td>\n",
              "      <td>0.483467</td>\n",
              "      <td>0.835904</td>\n",
              "      <td>14.427135</td>\n",
              "      <td>1.052008</td>\n",
              "      <td>0.796187</td>\n",
              "      <td>43.012711</td>\n",
              "    </tr>\n",
              "    <tr>\n",
              "      <th>min</th>\n",
              "      <td>1.000000</td>\n",
              "      <td>0.000000</td>\n",
              "      <td>1.000000</td>\n",
              "      <td>0.420000</td>\n",
              "      <td>0.000000</td>\n",
              "      <td>0.000000</td>\n",
              "      <td>0.000000</td>\n",
              "    </tr>\n",
              "    <tr>\n",
              "      <th>25%</th>\n",
              "      <td>221.000000</td>\n",
              "      <td>0.000000</td>\n",
              "      <td>2.000000</td>\n",
              "      <td>20.000000</td>\n",
              "      <td>0.000000</td>\n",
              "      <td>0.000000</td>\n",
              "      <td>7.895800</td>\n",
              "    </tr>\n",
              "    <tr>\n",
              "      <th>50%</th>\n",
              "      <td>443.000000</td>\n",
              "      <td>0.000000</td>\n",
              "      <td>3.000000</td>\n",
              "      <td>28.000000</td>\n",
              "      <td>0.000000</td>\n",
              "      <td>0.000000</td>\n",
              "      <td>14.108300</td>\n",
              "    </tr>\n",
              "    <tr>\n",
              "      <th>75%</th>\n",
              "      <td>671.000000</td>\n",
              "      <td>1.000000</td>\n",
              "      <td>3.000000</td>\n",
              "      <td>38.000000</td>\n",
              "      <td>1.000000</td>\n",
              "      <td>0.000000</td>\n",
              "      <td>30.500000</td>\n",
              "    </tr>\n",
              "    <tr>\n",
              "      <th>max</th>\n",
              "      <td>891.000000</td>\n",
              "      <td>1.000000</td>\n",
              "      <td>3.000000</td>\n",
              "      <td>74.000000</td>\n",
              "      <td>8.000000</td>\n",
              "      <td>6.000000</td>\n",
              "      <td>512.329200</td>\n",
              "    </tr>\n",
              "  </tbody>\n",
              "</table>\n",
              "</div>"
            ],
            "text/plain": [
              "       PassengerId    Survived      Pclass  ...       SibSp       Parch        Fare\n",
              "count   781.000000  781.000000  781.000000  ...  781.000000  781.000000  781.000000\n",
              "mean    445.335467    0.371319    2.309859  ...    0.503201    0.362356   30.312072\n",
              "std     257.978890    0.483467    0.835904  ...    1.052008    0.796187   43.012711\n",
              "min       1.000000    0.000000    1.000000  ...    0.000000    0.000000    0.000000\n",
              "25%     221.000000    0.000000    2.000000  ...    0.000000    0.000000    7.895800\n",
              "50%     443.000000    0.000000    3.000000  ...    0.000000    0.000000   14.108300\n",
              "75%     671.000000    1.000000    3.000000  ...    1.000000    0.000000   30.500000\n",
              "max     891.000000    1.000000    3.000000  ...    8.000000    6.000000  512.329200\n",
              "\n",
              "[8 rows x 7 columns]"
            ]
          },
          "metadata": {
            "tags": []
          },
          "execution_count": 26
        }
      ]
    },
    {
      "cell_type": "code",
      "metadata": {
        "id": "31zgk-DBKQaZ",
        "colab_type": "code",
        "colab": {}
      },
      "source": [
        "def dec(X):\n",
        "    return list(map(lambda x:'{0:.3f}'.format(x),X))\n",
        "\n",
        "def sol(col):\n",
        "    data=[df[col].mean(),df[col].median(),df[col].std()]\n",
        "    return dec(data)"
      ],
      "execution_count": null,
      "outputs": []
    },
    {
      "cell_type": "code",
      "metadata": {
        "id": "rU1RKUvOM6N5",
        "colab_type": "code",
        "colab": {
          "base_uri": "https://localhost:8080/",
          "height": 218
        },
        "outputId": "7f096f4c-74fb-47ad-c35e-c1466e6dbe37"
      },
      "source": [
        "output1=np.array([sol('Age'),sol('SibSp'),sol('Parch'),sol('Fare')])\n",
        "output1=output1.reshape(12,1)\n",
        "output1"
      ],
      "execution_count": null,
      "outputs": [
        {
          "output_type": "execute_result",
          "data": {
            "text/plain": [
              "array([[29.603],\n",
              "       [28.   ],\n",
              "       [14.427],\n",
              "       [ 0.503],\n",
              "       [ 0.   ],\n",
              "       [ 1.052],\n",
              "       [ 0.362],\n",
              "       [ 0.   ],\n",
              "       [ 0.796],\n",
              "       [30.312],\n",
              "       [14.108],\n",
              "       [43.013]])"
            ]
          },
          "metadata": {
            "tags": []
          },
          "execution_count": 87
        }
      ]
    },
    {
      "cell_type": "code",
      "metadata": {
        "id": "c6Li7KsVUTTf",
        "colab_type": "code",
        "colab": {
          "base_uri": "https://localhost:8080/",
          "height": 34
        },
        "outputId": "3aedb2ea-5ce4-40eb-bbe8-23a4007327be"
      },
      "source": [
        "perc=len(df[df['Survived']==1])/len(df)*100\n",
        "diff=df[df['Pclass']==1]['Age'].mean()-df[df['Pclass']==3]['Age'].mean()\n",
        "output2=[dec([perc]),dec([diff])]\n",
        "output2"
      ],
      "execution_count": null,
      "outputs": [
        {
          "output_type": "execute_result",
          "data": {
            "text/plain": [
              "[['37.132'], ['12.727']]"
            ]
          },
          "metadata": {
            "tags": []
          },
          "execution_count": 106
        }
      ]
    },
    {
      "cell_type": "code",
      "metadata": {
        "id": "35ulSprnXPes",
        "colab_type": "code",
        "colab": {
          "base_uri": "https://localhost:8080/",
          "height": 34
        },
        "outputId": "ebb99692-efa5-40f8-d47e-651917c64798"
      },
      "source": [
        ""
      ],
      "execution_count": null,
      "outputs": [
        {
          "output_type": "execute_result",
          "data": {
            "text/plain": [
              "12.727283730158728"
            ]
          },
          "metadata": {
            "tags": []
          },
          "execution_count": 100
        }
      ]
    },
    {
      "cell_type": "code",
      "metadata": {
        "id": "Dcp14_dWJZT6",
        "colab_type": "code",
        "colab": {}
      },
      "source": [
        "with open(\"output1.csv\", \"w\") as out:\n",
        "    writer = csv.writer(out, delimiter=\",\")\n",
        "    writer.writerows(output1)\n",
        "\n",
        "with open(\"output2.csv\", \"w\") as out:\n",
        "    writer = csv.writer(out, delimiter=\",\")\n",
        "    writer.writerows(output2)"
      ],
      "execution_count": null,
      "outputs": []
    },
    {
      "cell_type": "code",
      "metadata": {
        "id": "W5GTsDm2bM_S",
        "colab_type": "code",
        "colab": {}
      },
      "source": [
        ""
      ],
      "execution_count": null,
      "outputs": []
    },
    {
      "cell_type": "markdown",
      "metadata": {
        "id": "Q8xXEW3FgE6X",
        "colab_type": "text"
      },
      "source": [
        "# **Problem 5**"
      ]
    },
    {
      "cell_type": "code",
      "metadata": {
        "id": "r41N5Uk-KXXN",
        "colab_type": "code",
        "colab": {
          "base_uri": "https://localhost:8080/"
        },
        "outputId": "730a26ab-6472-426b-9e9f-3b89bf8d652a"
      },
      "source": [
        "df=pd.read_csv('https://media-doselect.s3.amazonaws.com/generic/Ong0rz98dgXBwx3PkPJbkO5pR/drug_overdose.csv')\n",
        "col='death_by_heroin'\n",
        "no=2\n",
        "df"
      ],
      "execution_count": null,
      "outputs": [
        {
          "output_type": "execute_result",
          "data": {
            "text/html": [
              "<div>\n",
              "<style scoped>\n",
              "    .dataframe tbody tr th:only-of-type {\n",
              "        vertical-align: middle;\n",
              "    }\n",
              "\n",
              "    .dataframe tbody tr th {\n",
              "        vertical-align: top;\n",
              "    }\n",
              "\n",
              "    .dataframe thead th {\n",
              "        text-align: right;\n",
              "    }\n",
              "</style>\n",
              "<table border=\"1\" class=\"dataframe\">\n",
              "  <thead>\n",
              "    <tr style=\"text-align: right;\">\n",
              "      <th></th>\n",
              "      <th>year</th>\n",
              "      <th>death_by_methadone</th>\n",
              "      <th>death_by_heroin</th>\n",
              "      <th>death_by_synthetic_opioids</th>\n",
              "    </tr>\n",
              "  </thead>\n",
              "  <tbody>\n",
              "    <tr>\n",
              "      <th>0</th>\n",
              "      <td>1999</td>\n",
              "      <td>784</td>\n",
              "      <td>1960</td>\n",
              "      <td>730</td>\n",
              "    </tr>\n",
              "    <tr>\n",
              "      <th>1</th>\n",
              "      <td>2000</td>\n",
              "      <td>986</td>\n",
              "      <td>1842</td>\n",
              "      <td>782</td>\n",
              "    </tr>\n",
              "    <tr>\n",
              "      <th>2</th>\n",
              "      <td>2001</td>\n",
              "      <td>1456</td>\n",
              "      <td>1779</td>\n",
              "      <td>957</td>\n",
              "    </tr>\n",
              "    <tr>\n",
              "      <th>3</th>\n",
              "      <td>2002</td>\n",
              "      <td>2358</td>\n",
              "      <td>2089</td>\n",
              "      <td>1295</td>\n",
              "    </tr>\n",
              "    <tr>\n",
              "      <th>4</th>\n",
              "      <td>2003</td>\n",
              "      <td>2972</td>\n",
              "      <td>2080</td>\n",
              "      <td>1400</td>\n",
              "    </tr>\n",
              "    <tr>\n",
              "      <th>5</th>\n",
              "      <td>2004</td>\n",
              "      <td>3845</td>\n",
              "      <td>1878</td>\n",
              "      <td>1664</td>\n",
              "    </tr>\n",
              "    <tr>\n",
              "      <th>6</th>\n",
              "      <td>2005</td>\n",
              "      <td>4460</td>\n",
              "      <td>2009</td>\n",
              "      <td>1742</td>\n",
              "    </tr>\n",
              "    <tr>\n",
              "      <th>7</th>\n",
              "      <td>2006</td>\n",
              "      <td>5406</td>\n",
              "      <td>2088</td>\n",
              "      <td>2707</td>\n",
              "    </tr>\n",
              "    <tr>\n",
              "      <th>8</th>\n",
              "      <td>2007</td>\n",
              "      <td>5518</td>\n",
              "      <td>2399</td>\n",
              "      <td>2213</td>\n",
              "    </tr>\n",
              "    <tr>\n",
              "      <th>9</th>\n",
              "      <td>2008</td>\n",
              "      <td>4924</td>\n",
              "      <td>3041</td>\n",
              "      <td>2306</td>\n",
              "    </tr>\n",
              "    <tr>\n",
              "      <th>10</th>\n",
              "      <td>2009</td>\n",
              "      <td>4696</td>\n",
              "      <td>3278</td>\n",
              "      <td>2946</td>\n",
              "    </tr>\n",
              "    <tr>\n",
              "      <th>11</th>\n",
              "      <td>2010</td>\n",
              "      <td>4577</td>\n",
              "      <td>3036</td>\n",
              "      <td>3007</td>\n",
              "    </tr>\n",
              "    <tr>\n",
              "      <th>12</th>\n",
              "      <td>2011</td>\n",
              "      <td>4418</td>\n",
              "      <td>4397</td>\n",
              "      <td>2666</td>\n",
              "    </tr>\n",
              "    <tr>\n",
              "      <th>13</th>\n",
              "      <td>2012</td>\n",
              "      <td>3932</td>\n",
              "      <td>5925</td>\n",
              "      <td>2628</td>\n",
              "    </tr>\n",
              "    <tr>\n",
              "      <th>14</th>\n",
              "      <td>2013</td>\n",
              "      <td>3591</td>\n",
              "      <td>8257</td>\n",
              "      <td>3105</td>\n",
              "    </tr>\n",
              "    <tr>\n",
              "      <th>15</th>\n",
              "      <td>2014</td>\n",
              "      <td>3400</td>\n",
              "      <td>10574</td>\n",
              "      <td>5544</td>\n",
              "    </tr>\n",
              "    <tr>\n",
              "      <th>16</th>\n",
              "      <td>2015</td>\n",
              "      <td>3301</td>\n",
              "      <td>12989</td>\n",
              "      <td>9580</td>\n",
              "    </tr>\n",
              "    <tr>\n",
              "      <th>17</th>\n",
              "      <td>2016</td>\n",
              "      <td>3373</td>\n",
              "      <td>15469</td>\n",
              "      <td>19413</td>\n",
              "    </tr>\n",
              "    <tr>\n",
              "      <th>18</th>\n",
              "      <td>2017</td>\n",
              "      <td>3194</td>\n",
              "      <td>15482</td>\n",
              "      <td>28466</td>\n",
              "    </tr>\n",
              "  </tbody>\n",
              "</table>\n",
              "</div>"
            ],
            "text/plain": [
              "    year  death_by_methadone  death_by_heroin  death_by_synthetic_opioids\n",
              "0   1999                 784             1960                         730\n",
              "1   2000                 986             1842                         782\n",
              "2   2001                1456             1779                         957\n",
              "3   2002                2358             2089                        1295\n",
              "4   2003                2972             2080                        1400\n",
              "5   2004                3845             1878                        1664\n",
              "6   2005                4460             2009                        1742\n",
              "7   2006                5406             2088                        2707\n",
              "8   2007                5518             2399                        2213\n",
              "9   2008                4924             3041                        2306\n",
              "10  2009                4696             3278                        2946\n",
              "11  2010                4577             3036                        3007\n",
              "12  2011                4418             4397                        2666\n",
              "13  2012                3932             5925                        2628\n",
              "14  2013                3591             8257                        3105\n",
              "15  2014                3400            10574                        5544\n",
              "16  2015                3301            12989                        9580\n",
              "17  2016                3373            15469                       19413\n",
              "18  2017                3194            15482                       28466"
            ]
          },
          "metadata": {
            "tags": []
          },
          "execution_count": 3
        }
      ]
    },
    {
      "cell_type": "code",
      "metadata": {
        "id": "l4P5PKhuaImD",
        "colab_type": "code",
        "colab": {}
      },
      "source": [
        "def sol(x):\n",
        "    return np.percentile(df[col],x)"
      ],
      "execution_count": null,
      "outputs": []
    },
    {
      "cell_type": "code",
      "metadata": {
        "id": "bx3cVDfafhmf",
        "colab_type": "code",
        "colab": {
          "base_uri": "https://localhost:8080/"
        },
        "outputId": "772dd0ed-e698-4e3f-cf56-cbba88e1146b"
      },
      "source": [
        "grp1=df[df[col]>sol(95)]\n",
        "grp1"
      ],
      "execution_count": null,
      "outputs": [
        {
          "output_type": "execute_result",
          "data": {
            "text/html": [
              "<div>\n",
              "<style scoped>\n",
              "    .dataframe tbody tr th:only-of-type {\n",
              "        vertical-align: middle;\n",
              "    }\n",
              "\n",
              "    .dataframe tbody tr th {\n",
              "        vertical-align: top;\n",
              "    }\n",
              "\n",
              "    .dataframe thead th {\n",
              "        text-align: right;\n",
              "    }\n",
              "</style>\n",
              "<table border=\"1\" class=\"dataframe\">\n",
              "  <thead>\n",
              "    <tr style=\"text-align: right;\">\n",
              "      <th></th>\n",
              "      <th>year</th>\n",
              "      <th>death_by_methadone</th>\n",
              "      <th>death_by_heroin</th>\n",
              "      <th>death_by_synthetic_opioids</th>\n",
              "    </tr>\n",
              "  </thead>\n",
              "  <tbody>\n",
              "    <tr>\n",
              "      <th>18</th>\n",
              "      <td>2017</td>\n",
              "      <td>3194</td>\n",
              "      <td>15482</td>\n",
              "      <td>28466</td>\n",
              "    </tr>\n",
              "  </tbody>\n",
              "</table>\n",
              "</div>"
            ],
            "text/plain": [
              "    year  death_by_methadone  death_by_heroin  death_by_synthetic_opioids\n",
              "18  2017                3194            15482                       28466"
            ]
          },
          "metadata": {
            "tags": []
          },
          "execution_count": 5
        }
      ]
    },
    {
      "cell_type": "code",
      "metadata": {
        "id": "gRTJimZ_fk4d",
        "colab_type": "code",
        "colab": {
          "base_uri": "https://localhost:8080/"
        },
        "outputId": "67058bc2-1adb-42c5-ceb7-7e6a1e0c04a0"
      },
      "source": [
        "grp2=df[(df[col]<=sol(95)) & (df[col]>sol(80))]\n",
        "grp2"
      ],
      "execution_count": null,
      "outputs": [
        {
          "output_type": "execute_result",
          "data": {
            "text/html": [
              "<div>\n",
              "<style scoped>\n",
              "    .dataframe tbody tr th:only-of-type {\n",
              "        vertical-align: middle;\n",
              "    }\n",
              "\n",
              "    .dataframe tbody tr th {\n",
              "        vertical-align: top;\n",
              "    }\n",
              "\n",
              "    .dataframe thead th {\n",
              "        text-align: right;\n",
              "    }\n",
              "</style>\n",
              "<table border=\"1\" class=\"dataframe\">\n",
              "  <thead>\n",
              "    <tr style=\"text-align: right;\">\n",
              "      <th></th>\n",
              "      <th>year</th>\n",
              "      <th>death_by_methadone</th>\n",
              "      <th>death_by_heroin</th>\n",
              "      <th>death_by_synthetic_opioids</th>\n",
              "    </tr>\n",
              "  </thead>\n",
              "  <tbody>\n",
              "    <tr>\n",
              "      <th>15</th>\n",
              "      <td>2014</td>\n",
              "      <td>3400</td>\n",
              "      <td>10574</td>\n",
              "      <td>5544</td>\n",
              "    </tr>\n",
              "    <tr>\n",
              "      <th>16</th>\n",
              "      <td>2015</td>\n",
              "      <td>3301</td>\n",
              "      <td>12989</td>\n",
              "      <td>9580</td>\n",
              "    </tr>\n",
              "    <tr>\n",
              "      <th>17</th>\n",
              "      <td>2016</td>\n",
              "      <td>3373</td>\n",
              "      <td>15469</td>\n",
              "      <td>19413</td>\n",
              "    </tr>\n",
              "  </tbody>\n",
              "</table>\n",
              "</div>"
            ],
            "text/plain": [
              "    year  death_by_methadone  death_by_heroin  death_by_synthetic_opioids\n",
              "15  2014                3400            10574                        5544\n",
              "16  2015                3301            12989                        9580\n",
              "17  2016                3373            15469                       19413"
            ]
          },
          "metadata": {
            "tags": []
          },
          "execution_count": 6
        }
      ]
    },
    {
      "cell_type": "code",
      "metadata": {
        "id": "tY6xn64Sfq71",
        "colab_type": "code",
        "colab": {
          "base_uri": "https://localhost:8080/"
        },
        "outputId": "e76eaca9-219c-4071-af60-823d8c474e7e"
      },
      "source": [
        "grp3=df[(df[col]<=sol(80)) & (df[col]>sol(50))]\n",
        "grp3"
      ],
      "execution_count": null,
      "outputs": [
        {
          "output_type": "execute_result",
          "data": {
            "text/html": [
              "<div>\n",
              "<style scoped>\n",
              "    .dataframe tbody tr th:only-of-type {\n",
              "        vertical-align: middle;\n",
              "    }\n",
              "\n",
              "    .dataframe tbody tr th {\n",
              "        vertical-align: top;\n",
              "    }\n",
              "\n",
              "    .dataframe thead th {\n",
              "        text-align: right;\n",
              "    }\n",
              "</style>\n",
              "<table border=\"1\" class=\"dataframe\">\n",
              "  <thead>\n",
              "    <tr style=\"text-align: right;\">\n",
              "      <th></th>\n",
              "      <th>year</th>\n",
              "      <th>death_by_methadone</th>\n",
              "      <th>death_by_heroin</th>\n",
              "      <th>death_by_synthetic_opioids</th>\n",
              "    </tr>\n",
              "  </thead>\n",
              "  <tbody>\n",
              "    <tr>\n",
              "      <th>9</th>\n",
              "      <td>2008</td>\n",
              "      <td>4924</td>\n",
              "      <td>3041</td>\n",
              "      <td>2306</td>\n",
              "    </tr>\n",
              "    <tr>\n",
              "      <th>10</th>\n",
              "      <td>2009</td>\n",
              "      <td>4696</td>\n",
              "      <td>3278</td>\n",
              "      <td>2946</td>\n",
              "    </tr>\n",
              "    <tr>\n",
              "      <th>12</th>\n",
              "      <td>2011</td>\n",
              "      <td>4418</td>\n",
              "      <td>4397</td>\n",
              "      <td>2666</td>\n",
              "    </tr>\n",
              "    <tr>\n",
              "      <th>13</th>\n",
              "      <td>2012</td>\n",
              "      <td>3932</td>\n",
              "      <td>5925</td>\n",
              "      <td>2628</td>\n",
              "    </tr>\n",
              "    <tr>\n",
              "      <th>14</th>\n",
              "      <td>2013</td>\n",
              "      <td>3591</td>\n",
              "      <td>8257</td>\n",
              "      <td>3105</td>\n",
              "    </tr>\n",
              "  </tbody>\n",
              "</table>\n",
              "</div>"
            ],
            "text/plain": [
              "    year  death_by_methadone  death_by_heroin  death_by_synthetic_opioids\n",
              "9   2008                4924             3041                        2306\n",
              "10  2009                4696             3278                        2946\n",
              "12  2011                4418             4397                        2666\n",
              "13  2012                3932             5925                        2628\n",
              "14  2013                3591             8257                        3105"
            ]
          },
          "metadata": {
            "tags": []
          },
          "execution_count": 7
        }
      ]
    },
    {
      "cell_type": "code",
      "metadata": {
        "id": "I5d9oYbWfuXx",
        "colab_type": "code",
        "colab": {
          "base_uri": "https://localhost:8080/"
        },
        "outputId": "76fa1c83-1764-4e8f-e3da-1196ee23bdda"
      },
      "source": [
        "grp4=df[df[col]<sol(50)]\n",
        "grp4"
      ],
      "execution_count": null,
      "outputs": [
        {
          "output_type": "execute_result",
          "data": {
            "text/html": [
              "<div>\n",
              "<style scoped>\n",
              "    .dataframe tbody tr th:only-of-type {\n",
              "        vertical-align: middle;\n",
              "    }\n",
              "\n",
              "    .dataframe tbody tr th {\n",
              "        vertical-align: top;\n",
              "    }\n",
              "\n",
              "    .dataframe thead th {\n",
              "        text-align: right;\n",
              "    }\n",
              "</style>\n",
              "<table border=\"1\" class=\"dataframe\">\n",
              "  <thead>\n",
              "    <tr style=\"text-align: right;\">\n",
              "      <th></th>\n",
              "      <th>year</th>\n",
              "      <th>death_by_methadone</th>\n",
              "      <th>death_by_heroin</th>\n",
              "      <th>death_by_synthetic_opioids</th>\n",
              "    </tr>\n",
              "  </thead>\n",
              "  <tbody>\n",
              "    <tr>\n",
              "      <th>0</th>\n",
              "      <td>1999</td>\n",
              "      <td>784</td>\n",
              "      <td>1960</td>\n",
              "      <td>730</td>\n",
              "    </tr>\n",
              "    <tr>\n",
              "      <th>1</th>\n",
              "      <td>2000</td>\n",
              "      <td>986</td>\n",
              "      <td>1842</td>\n",
              "      <td>782</td>\n",
              "    </tr>\n",
              "    <tr>\n",
              "      <th>2</th>\n",
              "      <td>2001</td>\n",
              "      <td>1456</td>\n",
              "      <td>1779</td>\n",
              "      <td>957</td>\n",
              "    </tr>\n",
              "    <tr>\n",
              "      <th>3</th>\n",
              "      <td>2002</td>\n",
              "      <td>2358</td>\n",
              "      <td>2089</td>\n",
              "      <td>1295</td>\n",
              "    </tr>\n",
              "    <tr>\n",
              "      <th>4</th>\n",
              "      <td>2003</td>\n",
              "      <td>2972</td>\n",
              "      <td>2080</td>\n",
              "      <td>1400</td>\n",
              "    </tr>\n",
              "    <tr>\n",
              "      <th>5</th>\n",
              "      <td>2004</td>\n",
              "      <td>3845</td>\n",
              "      <td>1878</td>\n",
              "      <td>1664</td>\n",
              "    </tr>\n",
              "    <tr>\n",
              "      <th>6</th>\n",
              "      <td>2005</td>\n",
              "      <td>4460</td>\n",
              "      <td>2009</td>\n",
              "      <td>1742</td>\n",
              "    </tr>\n",
              "    <tr>\n",
              "      <th>7</th>\n",
              "      <td>2006</td>\n",
              "      <td>5406</td>\n",
              "      <td>2088</td>\n",
              "      <td>2707</td>\n",
              "    </tr>\n",
              "    <tr>\n",
              "      <th>8</th>\n",
              "      <td>2007</td>\n",
              "      <td>5518</td>\n",
              "      <td>2399</td>\n",
              "      <td>2213</td>\n",
              "    </tr>\n",
              "  </tbody>\n",
              "</table>\n",
              "</div>"
            ],
            "text/plain": [
              "   year  death_by_methadone  death_by_heroin  death_by_synthetic_opioids\n",
              "0  1999                 784             1960                         730\n",
              "1  2000                 986             1842                         782\n",
              "2  2001                1456             1779                         957\n",
              "3  2002                2358             2089                        1295\n",
              "4  2003                2972             2080                        1400\n",
              "5  2004                3845             1878                        1664\n",
              "6  2005                4460             2009                        1742\n",
              "7  2006                5406             2088                        2707\n",
              "8  2007                5518             2399                        2213"
            ]
          },
          "metadata": {
            "tags": []
          },
          "execution_count": 8
        }
      ]
    },
    {
      "cell_type": "code",
      "metadata": {
        "id": "7mRPHZ4lfyQN",
        "colab_type": "code",
        "colab": {
          "base_uri": "https://localhost:8080/"
        },
        "outputId": "83cb9f22-7c4f-4650-bc98-b55bc49693eb"
      },
      "source": [
        "list(grp2['year'])"
      ],
      "execution_count": null,
      "outputs": [
        {
          "output_type": "execute_result",
          "data": {
            "text/plain": [
              "[2014, 2015, 2016]"
            ]
          },
          "metadata": {
            "tags": []
          },
          "execution_count": 9
        }
      ]
    },
    {
      "cell_type": "markdown",
      "metadata": {
        "id": "vz2xeeWmgOvy",
        "colab_type": "text"
      },
      "source": [
        "# **Problem 4**"
      ]
    },
    {
      "cell_type": "code",
      "metadata": {
        "id": "6MjDiI4agApa",
        "colab_type": "code",
        "colab": {
          "base_uri": "https://localhost:8080/"
        },
        "outputId": "5acfb4c2-037d-43de-9f56-592b362e812c"
      },
      "source": [
        "df=pd.read_csv('https://media-doselect.s3.amazonaws.com/generic/N9rLGZvLx4M8pMnLBxv2o9ezv/US_Employment_Data.csv')\n",
        "df\n"
      ],
      "execution_count": null,
      "outputs": [
        {
          "output_type": "execute_result",
          "data": {
            "text/html": [
              "<div>\n",
              "<style scoped>\n",
              "    .dataframe tbody tr th:only-of-type {\n",
              "        vertical-align: middle;\n",
              "    }\n",
              "\n",
              "    .dataframe tbody tr th {\n",
              "        vertical-align: top;\n",
              "    }\n",
              "\n",
              "    .dataframe thead th {\n",
              "        text-align: right;\n",
              "    }\n",
              "</style>\n",
              "<table border=\"1\" class=\"dataframe\">\n",
              "  <thead>\n",
              "    <tr style=\"text-align: right;\">\n",
              "      <th></th>\n",
              "      <th>year</th>\n",
              "      <th>population</th>\n",
              "      <th>labor_force</th>\n",
              "      <th>population_percent</th>\n",
              "      <th>employed_total</th>\n",
              "      <th>employed_percent</th>\n",
              "      <th>agrictulture_ratio</th>\n",
              "      <th>nonagriculture_ratio</th>\n",
              "      <th>unemployed</th>\n",
              "      <th>unemployed_percent</th>\n",
              "      <th>not_in_labor</th>\n",
              "      <th>footnotes</th>\n",
              "    </tr>\n",
              "  </thead>\n",
              "  <tbody>\n",
              "    <tr>\n",
              "      <th>0</th>\n",
              "      <td>1941</td>\n",
              "      <td>99900</td>\n",
              "      <td>55910</td>\n",
              "      <td>56.0</td>\n",
              "      <td>50350</td>\n",
              "      <td>50.4</td>\n",
              "      <td>9100</td>\n",
              "      <td>41250</td>\n",
              "      <td>5560</td>\n",
              "      <td>9.9</td>\n",
              "      <td>43990</td>\n",
              "      <td>NaN</td>\n",
              "    </tr>\n",
              "    <tr>\n",
              "      <th>1</th>\n",
              "      <td>1942</td>\n",
              "      <td>98640</td>\n",
              "      <td>56410</td>\n",
              "      <td>57.2</td>\n",
              "      <td>53750</td>\n",
              "      <td>54.5</td>\n",
              "      <td>9250</td>\n",
              "      <td>44500</td>\n",
              "      <td>2660</td>\n",
              "      <td>4.7</td>\n",
              "      <td>42230</td>\n",
              "      <td>NaN</td>\n",
              "    </tr>\n",
              "    <tr>\n",
              "      <th>2</th>\n",
              "      <td>1943</td>\n",
              "      <td>94640</td>\n",
              "      <td>55540</td>\n",
              "      <td>58.7</td>\n",
              "      <td>54470</td>\n",
              "      <td>57.6</td>\n",
              "      <td>9080</td>\n",
              "      <td>45390</td>\n",
              "      <td>1070</td>\n",
              "      <td>1.9</td>\n",
              "      <td>39100</td>\n",
              "      <td>NaN</td>\n",
              "    </tr>\n",
              "    <tr>\n",
              "      <th>3</th>\n",
              "      <td>1944</td>\n",
              "      <td>93220</td>\n",
              "      <td>54630</td>\n",
              "      <td>58.6</td>\n",
              "      <td>53960</td>\n",
              "      <td>57.9</td>\n",
              "      <td>8950</td>\n",
              "      <td>45010</td>\n",
              "      <td>670</td>\n",
              "      <td>1.2</td>\n",
              "      <td>38590</td>\n",
              "      <td>NaN</td>\n",
              "    </tr>\n",
              "    <tr>\n",
              "      <th>4</th>\n",
              "      <td>1945</td>\n",
              "      <td>94090</td>\n",
              "      <td>53860</td>\n",
              "      <td>57.2</td>\n",
              "      <td>52820</td>\n",
              "      <td>56.1</td>\n",
              "      <td>8580</td>\n",
              "      <td>44240</td>\n",
              "      <td>1040</td>\n",
              "      <td>1.9</td>\n",
              "      <td>40230</td>\n",
              "      <td>NaN</td>\n",
              "    </tr>\n",
              "    <tr>\n",
              "      <th>...</th>\n",
              "      <td>...</td>\n",
              "      <td>...</td>\n",
              "      <td>...</td>\n",
              "      <td>...</td>\n",
              "      <td>...</td>\n",
              "      <td>...</td>\n",
              "      <td>...</td>\n",
              "      <td>...</td>\n",
              "      <td>...</td>\n",
              "      <td>...</td>\n",
              "      <td>...</td>\n",
              "      <td>...</td>\n",
              "    </tr>\n",
              "    <tr>\n",
              "      <th>66</th>\n",
              "      <td>2006</td>\n",
              "      <td>228815</td>\n",
              "      <td>151428</td>\n",
              "      <td>66.2</td>\n",
              "      <td>144427</td>\n",
              "      <td>63.1</td>\n",
              "      <td>2206</td>\n",
              "      <td>142221</td>\n",
              "      <td>7001</td>\n",
              "      <td>4.6</td>\n",
              "      <td>77387</td>\n",
              "      <td>1.0</td>\n",
              "    </tr>\n",
              "    <tr>\n",
              "      <th>67</th>\n",
              "      <td>2007</td>\n",
              "      <td>231867</td>\n",
              "      <td>153124</td>\n",
              "      <td>66.0</td>\n",
              "      <td>146047</td>\n",
              "      <td>63.0</td>\n",
              "      <td>2095</td>\n",
              "      <td>143952</td>\n",
              "      <td>7078</td>\n",
              "      <td>4.6</td>\n",
              "      <td>78743</td>\n",
              "      <td>1.0</td>\n",
              "    </tr>\n",
              "    <tr>\n",
              "      <th>68</th>\n",
              "      <td>2008</td>\n",
              "      <td>233788</td>\n",
              "      <td>154287</td>\n",
              "      <td>66.0</td>\n",
              "      <td>145362</td>\n",
              "      <td>62.2</td>\n",
              "      <td>2168</td>\n",
              "      <td>143194</td>\n",
              "      <td>8924</td>\n",
              "      <td>5.8</td>\n",
              "      <td>79501</td>\n",
              "      <td>1.0</td>\n",
              "    </tr>\n",
              "    <tr>\n",
              "      <th>69</th>\n",
              "      <td>2009</td>\n",
              "      <td>235801</td>\n",
              "      <td>154142</td>\n",
              "      <td>65.4</td>\n",
              "      <td>139877</td>\n",
              "      <td>59.3</td>\n",
              "      <td>2103</td>\n",
              "      <td>137775</td>\n",
              "      <td>14265</td>\n",
              "      <td>9.3</td>\n",
              "      <td>81659</td>\n",
              "      <td>1.0</td>\n",
              "    </tr>\n",
              "    <tr>\n",
              "      <th>70</th>\n",
              "      <td>2010</td>\n",
              "      <td>237830</td>\n",
              "      <td>153889</td>\n",
              "      <td>64.7</td>\n",
              "      <td>139064</td>\n",
              "      <td>58.5</td>\n",
              "      <td>2206</td>\n",
              "      <td>136858</td>\n",
              "      <td>14825</td>\n",
              "      <td>9.6</td>\n",
              "      <td>83941</td>\n",
              "      <td>1.0</td>\n",
              "    </tr>\n",
              "  </tbody>\n",
              "</table>\n",
              "<p>71 rows × 12 columns</p>\n",
              "</div>"
            ],
            "text/plain": [
              "    year  population  labor_force  ...  unemployed_percent  not_in_labor  footnotes\n",
              "0   1941       99900        55910  ...                 9.9         43990        NaN\n",
              "1   1942       98640        56410  ...                 4.7         42230        NaN\n",
              "2   1943       94640        55540  ...                 1.9         39100        NaN\n",
              "3   1944       93220        54630  ...                 1.2         38590        NaN\n",
              "4   1945       94090        53860  ...                 1.9         40230        NaN\n",
              "..   ...         ...          ...  ...                 ...           ...        ...\n",
              "66  2006      228815       151428  ...                 4.6         77387        1.0\n",
              "67  2007      231867       153124  ...                 4.6         78743        1.0\n",
              "68  2008      233788       154287  ...                 5.8         79501        1.0\n",
              "69  2009      235801       154142  ...                 9.3         81659        1.0\n",
              "70  2010      237830       153889  ...                 9.6         83941        1.0\n",
              "\n",
              "[71 rows x 12 columns]"
            ]
          },
          "metadata": {
            "tags": []
          },
          "execution_count": 10
        }
      ]
    },
    {
      "cell_type": "code",
      "metadata": {
        "id": "juv8HCKticDI",
        "colab_type": "code",
        "colab": {}
      },
      "source": [
        "col='labor_force'"
      ],
      "execution_count": null,
      "outputs": []
    },
    {
      "cell_type": "code",
      "metadata": {
        "id": "uEn0n97gik88",
        "colab_type": "code",
        "colab": {}
      },
      "source": [
        ""
      ],
      "execution_count": null,
      "outputs": []
    }
  ]
}