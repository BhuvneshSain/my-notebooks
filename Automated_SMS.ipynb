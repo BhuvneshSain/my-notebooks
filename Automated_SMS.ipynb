{
  "nbformat": 4,
  "nbformat_minor": 0,
  "metadata": {
    "colab": {
      "name": "Automated SMS.ipynb",
      "provenance": [],
      "authorship_tag": "ABX9TyPgFaPwAr1tA7i6eZnvDjrV",
      "include_colab_link": true
    },
    "kernelspec": {
      "name": "python3",
      "display_name": "Python 3"
    }
  },
  "cells": [
    {
      "cell_type": "markdown",
      "metadata": {
        "id": "view-in-github",
        "colab_type": "text"
      },
      "source": [
        "<a href=\"https://colab.research.google.com/github/BhuvneshSain/my-notebooks/blob/master/Automated_SMS.ipynb\" target=\"_parent\"><img src=\"https://colab.research.google.com/assets/colab-badge.svg\" alt=\"Open In Colab\"/></a>"
      ]
    },
    {
      "cell_type": "code",
      "metadata": {
        "id": "qRAHjT-tZIHy",
        "colab_type": "code",
        "colab": {}
      },
      "source": [
        "import requests\n"
      ],
      "execution_count": 1,
      "outputs": []
    },
    {
      "cell_type": "code",
      "metadata": {
        "id": "g8zrV_0nas1_",
        "colab_type": "code",
        "colab": {
          "base_uri": "https://localhost:8080/",
          "height": 336
        },
        "outputId": "a4075f63-6a4a-4f8f-a0b6-076590304ca6"
      },
      "source": [
        "!pip install twilio "
      ],
      "execution_count": 2,
      "outputs": [
        {
          "output_type": "stream",
          "text": [
            "Collecting twilio\n",
            "\u001b[?25l  Downloading https://files.pythonhosted.org/packages/ef/40/092cf4152422901ee472bea72375a9e9c5b6a283908d31c3e09bb07e5fae/twilio-6.44.1.tar.gz (433kB)\n",
            "\r\u001b[K     |▊                               | 10kB 16.1MB/s eta 0:00:01\r\u001b[K     |█▌                              | 20kB 1.7MB/s eta 0:00:01\r\u001b[K     |██▎                             | 30kB 2.2MB/s eta 0:00:01\r\u001b[K     |███                             | 40kB 2.5MB/s eta 0:00:01\r\u001b[K     |███▉                            | 51kB 2.0MB/s eta 0:00:01\r\u001b[K     |████▌                           | 61kB 2.2MB/s eta 0:00:01\r\u001b[K     |█████▎                          | 71kB 2.5MB/s eta 0:00:01\r\u001b[K     |██████                          | 81kB 2.7MB/s eta 0:00:01\r\u001b[K     |██████▉                         | 92kB 2.9MB/s eta 0:00:01\r\u001b[K     |███████▋                        | 102kB 2.7MB/s eta 0:00:01\r\u001b[K     |████████▎                       | 112kB 2.7MB/s eta 0:00:01\r\u001b[K     |█████████                       | 122kB 2.7MB/s eta 0:00:01\r\u001b[K     |█████████▉                      | 133kB 2.7MB/s eta 0:00:01\r\u001b[K     |██████████▋                     | 143kB 2.7MB/s eta 0:00:01\r\u001b[K     |███████████▍                    | 153kB 2.7MB/s eta 0:00:01\r\u001b[K     |████████████                    | 163kB 2.7MB/s eta 0:00:01\r\u001b[K     |████████████▉                   | 174kB 2.7MB/s eta 0:00:01\r\u001b[K     |█████████████▋                  | 184kB 2.7MB/s eta 0:00:01\r\u001b[K     |██████████████▍                 | 194kB 2.7MB/s eta 0:00:01\r\u001b[K     |███████████████▏                | 204kB 2.7MB/s eta 0:00:01\r\u001b[K     |███████████████▉                | 215kB 2.7MB/s eta 0:00:01\r\u001b[K     |████████████████▋               | 225kB 2.7MB/s eta 0:00:01\r\u001b[K     |█████████████████▍              | 235kB 2.7MB/s eta 0:00:01\r\u001b[K     |██████████████████▏             | 245kB 2.7MB/s eta 0:00:01\r\u001b[K     |███████████████████             | 256kB 2.7MB/s eta 0:00:01\r\u001b[K     |███████████████████▋            | 266kB 2.7MB/s eta 0:00:01\r\u001b[K     |████████████████████▍           | 276kB 2.7MB/s eta 0:00:01\r\u001b[K     |█████████████████████▏          | 286kB 2.7MB/s eta 0:00:01\r\u001b[K     |██████████████████████          | 296kB 2.7MB/s eta 0:00:01\r\u001b[K     |██████████████████████▊         | 307kB 2.7MB/s eta 0:00:01\r\u001b[K     |███████████████████████▍        | 317kB 2.7MB/s eta 0:00:01\r\u001b[K     |████████████████████████▏       | 327kB 2.7MB/s eta 0:00:01\r\u001b[K     |█████████████████████████       | 337kB 2.7MB/s eta 0:00:01\r\u001b[K     |█████████████████████████▊      | 348kB 2.7MB/s eta 0:00:01\r\u001b[K     |██████████████████████████▌     | 358kB 2.7MB/s eta 0:00:01\r\u001b[K     |███████████████████████████▏    | 368kB 2.7MB/s eta 0:00:01\r\u001b[K     |████████████████████████████    | 378kB 2.7MB/s eta 0:00:01\r\u001b[K     |████████████████████████████▊   | 389kB 2.7MB/s eta 0:00:01\r\u001b[K     |█████████████████████████████▌  | 399kB 2.7MB/s eta 0:00:01\r\u001b[K     |██████████████████████████████▎ | 409kB 2.7MB/s eta 0:00:01\r\u001b[K     |███████████████████████████████ | 419kB 2.7MB/s eta 0:00:01\r\u001b[K     |███████████████████████████████▊| 430kB 2.7MB/s eta 0:00:01\r\u001b[K     |████████████████████████████████| 440kB 2.7MB/s \n",
            "\u001b[?25hRequirement already satisfied: six in /usr/local/lib/python3.6/dist-packages (from twilio) (1.15.0)\n",
            "Requirement already satisfied: pytz in /usr/local/lib/python3.6/dist-packages (from twilio) (2018.9)\n",
            "Collecting PyJWT>=1.4.2\n",
            "  Downloading https://files.pythonhosted.org/packages/87/8b/6a9f14b5f781697e51259d81657e6048fd31a113229cf346880bb7545565/PyJWT-1.7.1-py2.py3-none-any.whl\n",
            "Requirement already satisfied: requests>=2.0.0 in /usr/local/lib/python3.6/dist-packages (from twilio) (2.23.0)\n",
            "Requirement already satisfied: certifi>=2017.4.17 in /usr/local/lib/python3.6/dist-packages (from requests>=2.0.0->twilio) (2020.6.20)\n",
            "Requirement already satisfied: urllib3!=1.25.0,!=1.25.1,<1.26,>=1.21.1 in /usr/local/lib/python3.6/dist-packages (from requests>=2.0.0->twilio) (1.24.3)\n",
            "Requirement already satisfied: chardet<4,>=3.0.2 in /usr/local/lib/python3.6/dist-packages (from requests>=2.0.0->twilio) (3.0.4)\n",
            "Requirement already satisfied: idna<3,>=2.5 in /usr/local/lib/python3.6/dist-packages (from requests>=2.0.0->twilio) (2.10)\n",
            "Building wheels for collected packages: twilio\n",
            "  Building wheel for twilio (setup.py) ... \u001b[?25l\u001b[?25hdone\n",
            "  Created wheel for twilio: filename=twilio-6.44.1-py2.py3-none-any.whl size=1143907 sha256=9d01ad13dc5d43c188aea25ec2457116bed4ad043278ea9aa347d3df61bfdae5\n",
            "  Stored in directory: /root/.cache/pip/wheels/8d/b3/aa/24cd55e9aa4635ad80bebd85b40efd5fc2368e77c02dcbfcbb\n",
            "Successfully built twilio\n",
            "Installing collected packages: PyJWT, twilio\n",
            "Successfully installed PyJWT-1.7.1 twilio-6.44.1\n"
          ],
          "name": "stdout"
        }
      ]
    },
    {
      "cell_type": "code",
      "metadata": {
        "id": "TjZrdycHePsR",
        "colab_type": "code",
        "colab": {
          "base_uri": "https://localhost:8080/",
          "height": 34
        },
        "outputId": "9a06c396-10ee-4e25-f50c-f352b9c0a62b"
      },
      "source": [
        "from twilio.rest import Client\n",
        "\n",
        "\n",
        "# Your Account Sid and Auth Token from twilio.com/console\n",
        "# DANGER! This is insecure. See http://twil.io/secure\n",
        "account_sid = 'ACbfbe8559e0b06851c91f8f82d0ae5a4f'\n",
        "auth_token = '5a4c017bb0974d285c44304186a4c4df'\n",
        "client = Client(account_sid, auth_token)\n",
        "\n",
        "message = client.messages.create(\n",
        "                     body=\"Join Earth's mightiest heroes. Like Kevin Bacon.\",\n",
        "                     from_='+12052931720',\n",
        "                     to='+917976552402'\n",
        "                 )\n",
        "\n",
        "print(message.sid)"
      ],
      "execution_count": 6,
      "outputs": [
        {
          "output_type": "stream",
          "text": [
            "SMb3311bcbdba54bd98b602ffb182a5504\n"
          ],
          "name": "stdout"
        }
      ]
    },
    {
      "cell_type": "code",
      "metadata": {
        "id": "_RejiBcke4BQ",
        "colab_type": "code",
        "colab": {}
      },
      "source": [
        ""
      ],
      "execution_count": null,
      "outputs": []
    }
  ]
}