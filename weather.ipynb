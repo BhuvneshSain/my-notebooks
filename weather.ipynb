{
  "nbformat": 4,
  "nbformat_minor": 0,
  "metadata": {
    "colab": {
      "name": "weather.ipynb",
      "provenance": [],
      "collapsed_sections": [],
      "authorship_tag": "ABX9TyMFmkRPtQ5SyZOtzu3gbqoS",
      "include_colab_link": true
    },
    "kernelspec": {
      "name": "python3",
      "display_name": "Python 3"
    }
  },
  "cells": [
    {
      "cell_type": "markdown",
      "metadata": {
        "id": "view-in-github",
        "colab_type": "text"
      },
      "source": [
        "<a href=\"https://colab.research.google.com/github/BhuvneshSain/my-notebooks/blob/master/weather.ipynb\" target=\"_parent\"><img src=\"https://colab.research.google.com/assets/colab-badge.svg\" alt=\"Open In Colab\"/></a>"
      ]
    },
    {
      "cell_type": "code",
      "metadata": {
        "id": "GtjBI2FykM6-",
        "colab_type": "code",
        "colab": {}
      },
      "source": [
        "import requests\n",
        "from IPython.core.display import HTML\n",
        "from datetime import date"
      ],
      "execution_count": 5,
      "outputs": []
    },
    {
      "cell_type": "code",
      "metadata": {
        "id": "HJdrLr0i5hpa",
        "colab_type": "code",
        "colab": {
          "base_uri": "https://localhost:8080/",
          "height": 403
        },
        "outputId": "88cf0b2b-3186-4580-eb83-91cfa3ccc5bd"
      },
      "source": [
        "url='http://api.openweathermap.org/data/2.5/weather?lat=28.0229&lon=73.3119&appid=73e25d23151f5e4d46c58cbaedf9cec9'\n",
        "response = requests.request(\"GET\", url)\n",
        "response.json()"
      ],
      "execution_count": 6,
      "outputs": [
        {
          "output_type": "execute_result",
          "data": {
            "text/plain": [
              "{'base': 'stations',\n",
              " 'clouds': {'all': 59},\n",
              " 'cod': 200,\n",
              " 'coord': {'lat': 28.02, 'lon': 73.31},\n",
              " 'dt': 1597342989,\n",
              " 'id': 1275665,\n",
              " 'main': {'feels_like': 309.46,\n",
              "  'grnd_level': 971,\n",
              "  'humidity': 48,\n",
              "  'pressure': 996,\n",
              "  'sea_level': 996,\n",
              "  'temp': 308.41,\n",
              "  'temp_max': 308.41,\n",
              "  'temp_min': 308.41},\n",
              " 'name': 'Bikaner',\n",
              " 'sys': {'country': 'IN', 'sunrise': 1597278955, 'sunset': 1597326449},\n",
              " 'timezone': 19800,\n",
              " 'visibility': 10000,\n",
              " 'weather': [{'description': 'broken clouds',\n",
              "   'icon': '04n',\n",
              "   'id': 803,\n",
              "   'main': 'Clouds'}],\n",
              " 'wind': {'deg': 196, 'speed': 5.64}}"
            ]
          },
          "metadata": {
            "tags": []
          },
          "execution_count": 6
        }
      ]
    },
    {
      "cell_type": "code",
      "metadata": {
        "id": "sJwvNjxqBr2t",
        "colab_type": "code",
        "colab": {
          "base_uri": "https://localhost:8080/",
          "height": 34
        },
        "outputId": "1f69f3c2-7f6e-4aad-e9e6-c2e891674d6d"
      },
      "source": [
        "content=response.json()\n",
        "temp=content['main']['temp']-273.15\n",
        "temp"
      ],
      "execution_count": 7,
      "outputs": [
        {
          "output_type": "execute_result",
          "data": {
            "text/plain": [
              "35.26000000000005"
            ]
          },
          "metadata": {
            "tags": []
          },
          "execution_count": 7
        }
      ]
    },
    {
      "cell_type": "code",
      "metadata": {
        "id": "_YQoLOK9DGDe",
        "colab_type": "code",
        "colab": {
          "base_uri": "https://localhost:8080/",
          "height": 35
        },
        "outputId": "fce5be58-1183-47b4-9ca4-c93906b72d01"
      },
      "source": [
        "name=content['name']\n",
        "name"
      ],
      "execution_count": 8,
      "outputs": [
        {
          "output_type": "execute_result",
          "data": {
            "application/vnd.google.colaboratory.intrinsic+json": {
              "type": "string"
            },
            "text/plain": [
              "'Bikaner'"
            ]
          },
          "metadata": {
            "tags": []
          },
          "execution_count": 8
        }
      ]
    },
    {
      "cell_type": "code",
      "metadata": {
        "id": "XU8H1AntDKPD",
        "colab_type": "code",
        "colab": {
          "base_uri": "https://localhost:8080/",
          "height": 35
        },
        "outputId": "27ecde7e-671b-4c49-d8ee-d3a597baf4dc"
      },
      "source": [
        "image='https://tse2.mm.bing.net/th?q={}+City&pid=Api&mkt=en-US&adlt=moderate&t=1'.format(name)\n",
        "image"
      ],
      "execution_count": 9,
      "outputs": [
        {
          "output_type": "execute_result",
          "data": {
            "application/vnd.google.colaboratory.intrinsic+json": {
              "type": "string"
            },
            "text/plain": [
              "'https://tse2.mm.bing.net/th?q=Bikaner+City&pid=Api&mkt=en-US&adlt=moderate&t=1'"
            ]
          },
          "metadata": {
            "tags": []
          },
          "execution_count": 9
        }
      ]
    },
    {
      "cell_type": "code",
      "metadata": {
        "id": "dkyU-vUDDNJc",
        "colab_type": "code",
        "colab": {
          "base_uri": "https://localhost:8080/",
          "height": 118
        },
        "outputId": "51175065-b3b7-4af7-c0d6-6cbff555e772"
      },
      "source": [
        "data={'day':date.today().strftime('%A'),\n",
        "      'date':date.today().strftime(\"%B %d, %Y\"),\n",
        "      'temp':'{:.1f}'.format(temp),\n",
        "      'loc':name,\n",
        "      'air':content['wind']['speed'],\n",
        "      'image':image,\n",
        "     }\n",
        "data"
      ],
      "execution_count": 11,
      "outputs": [
        {
          "output_type": "execute_result",
          "data": {
            "text/plain": [
              "{'air': 5.64,\n",
              " 'date': 'August 13, 2020',\n",
              " 'day': 'Thursday',\n",
              " 'image': 'https://tse2.mm.bing.net/th?q=Bikaner+City&pid=Api&mkt=en-US&adlt=moderate&t=1',\n",
              " 'loc': 'Bikaner',\n",
              " 'temp': '35.3'}"
            ]
          },
          "metadata": {
            "tags": []
          },
          "execution_count": 11
        }
      ]
    },
    {
      "cell_type": "code",
      "metadata": {
        "id": "vFasDj2SFK32",
        "colab_type": "code",
        "colab": {
          "base_uri": "https://localhost:8080/",
          "height": 582
        },
        "outputId": "29f4f319-55d4-4407-90e9-547667eda596"
      },
      "source": [
        "H='''\n",
        "<!DOCTYPE html>\n",
        "<html>\n",
        "<head>\n",
        "<meta name=\"viewport\" content=\"width=device-width, initial-scale=1\">\n",
        "\n",
        "</head>\n",
        "<body>\n",
        "\n",
        "\n",
        "\n",
        "<div class=\"card\" style=\"box-shadow: 0 4px 8px 0 rgba(0,0,0,0.2);transition: 0.3s;width: 40%;\">\n",
        "  <img src=\"{}\" alt=\"Avatar\" style=\"width:100%\">\n",
        "  <div class=\"container\" style='  padding: 2px 16px;'>\n",
        "    <h4><b>{}</b></h4> \n",
        "    <p>Air: <b>{}</b></p> \n",
        "     <p>Date: <b>{}</b></p> \n",
        "      <p>Day: <b>{}</b></p> \n",
        "       <p>Temp: <b>{}</b></p> \n",
        "  </div>\n",
        "</div>\n",
        "\n",
        "</body>\n",
        "</html> \n",
        "'''.format(data['image'],data['loc'],data['air'],data['date'],data['day'],data['temp'])\n",
        "HTML(H)"
      ],
      "execution_count": 18,
      "outputs": [
        {
          "output_type": "execute_result",
          "data": {
            "text/html": [
              "\n",
              "<!DOCTYPE html>\n",
              "<html>\n",
              "<head>\n",
              "<meta name=\"viewport\" content=\"width=device-width, initial-scale=1\">\n",
              "\n",
              "</head>\n",
              "<body>\n",
              "\n",
              "\n",
              "\n",
              "<div class=\"card\" style=\"box-shadow: 0 4px 8px 0 rgba(0,0,0,0.2);transition: 0.3s;width: 40%;\">\n",
              "  <img src=\"https://tse2.mm.bing.net/th?q=Bikaner+City&pid=Api&mkt=en-US&adlt=moderate&t=1\" alt=\"Avatar\" style=\"width:100%\">\n",
              "  <div class=\"container\" style='  padding: 2px 16px;'>\n",
              "    <h4><b>Bikaner</b></h4> \n",
              "    <p>Air: <b>5.64</b></p> \n",
              "     <p>Date: <b>August 13, 2020</b></p> \n",
              "      <p>Day: <b>Thursday</b></p> \n",
              "       <p>Temp: <b>35.3</b></p> \n",
              "  </div>\n",
              "</div>\n",
              "\n",
              "</body>\n",
              "</html> \n"
            ],
            "text/plain": [
              "<IPython.core.display.HTML object>"
            ]
          },
          "metadata": {
            "tags": []
          },
          "execution_count": 18
        }
      ]
    },
    {
      "cell_type": "markdown",
      "metadata": {
        "id": "1sNRqBllB0Wm",
        "colab_type": "text"
      },
      "source": [
        ""
      ]
    }
  ]
}